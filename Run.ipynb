{
 "cells": [
  {
   "cell_type": "markdown",
   "id": "2e6d51b2",
   "metadata": {},
   "source": [
    "# Training and evaluation on 3DPW dataset for SoMoF challenge\n",
    "## Quick dataset setup\n",
    "**Create data directories:**"
   ]
  },
  {
   "cell_type": "code",
   "execution_count": null,
   "id": "5df95d14",
   "metadata": {},
   "outputs": [],
   "source": [
    "!mkdir ./data\n",
    "!mkdir ./data/3dpw\n",
    "#!mkdir ./data/amass"
   ]
  },
  {
   "cell_type": "markdown",
   "id": "923c9d5d",
   "metadata": {},
   "source": [
    "**Download files:**\n",
    "\n",
    "- Download `sequenceFiles.zip` from [https://virtualhumans.mpi-inf.mpg.de/3DPW/license.html](https://virtualhumans.mpi-inf.mpg.de/3DPW/license.html) and place it in `./data/3dpw` folder\n",
    "\n",
    "\n",
    "- Download SoMoF challenge dataset (`somof_data_3dpw.zip`) from [https://virtualhumans.mpi-inf.mpg.de/3DPW/licensesmof.html](https://virtualhumans.mpi-inf.mpg.de/3DPW/licensesmof.html) and place the zip in `./data` folder\n",
    "\n",
    "\n",
    "- Download `CMU`(*CMU.tar.bz2*), `BMLmovi` (*BMLmovi.tar.bz2*), `BioMotionLab_NTroje` (*BMLrub.tar.bz2*) from [https://amass.is.tue.mpg.de/](https://amass.is.tue.mpg.de/) and place `.tar.bz2` files in `./data/amass`folder\n",
    "\n"
   ]
  },
  {
   "cell_type": "markdown",
   "id": "44513982",
   "metadata": {},
   "source": [
    "**Extract files:**"
   ]
  },
  {
   "cell_type": "code",
   "execution_count": null,
   "id": "08f1e387",
   "metadata": {},
   "outputs": [],
   "source": [
    "!unzip ./data/somof_data_3dpw.zip -d ./data\n",
    "!unzip ./data/3dpw/sequenceFiles.zip -d ./data/3dpw/\n",
    "\n",
    "!tar -xf ./data/amass/CMU.tar.bz2 -C ./data/amass\n",
    "!tar -xf ./data/amass/BMLmovi.tar.bz2 -C ./data/amass\n",
    "!tar -xf ./data/amass/BMLrub.tar.bz2 -C ./data/amass"
   ]
  },
  {
   "cell_type": "markdown",
   "id": "c367d215",
   "metadata": {},
   "source": [
    "<br/>"
   ]
  },
  {
   "cell_type": "markdown",
   "id": "03f9df46",
   "metadata": {},
   "source": [
    "# Train the model on 3DPW and AMASS"
   ]
  },
  {
   "cell_type": "code",
   "execution_count": null,
   "id": "c94c327b",
   "metadata": {
    "scrolled": true
   },
   "outputs": [],
   "source": [
    "!python train.py --device cuda --use_dct --dct_n 30 --use_full_augmentation --use_ctx_loss --out_model_name mpfsir_full"
   ]
  },
  {
   "cell_type": "code",
   "execution_count": null,
   "id": "63e6aaea",
   "metadata": {},
   "outputs": [],
   "source": [
    "!python eval.py --device cpu --dataset 3dpw --dct_n 30 --out_model_name mpfsir_full"
   ]
  },
  {
   "cell_type": "markdown",
   "id": "cf29ecfb",
   "metadata": {},
   "source": [
    "<br/><br/>"
   ]
  },
  {
   "cell_type": "markdown",
   "id": "d6696ca7",
   "metadata": {},
   "source": [
    "# Training and evaluation on CMU & MuPoTS dataset\n",
    "## Quick dataset setup"
   ]
  },
  {
   "cell_type": "code",
   "execution_count": null,
   "id": "d9297a35",
   "metadata": {},
   "outputs": [],
   "source": [
    "!mkdir support\n",
    "%cd support\n",
    "!git clone https://github.com/jiashunwang/MRT.git\n",
    "%cd .."
   ]
  },
  {
   "cell_type": "markdown",
   "id": "2e0e3877",
   "metadata": {},
   "source": [
    "- Download CMU dataset [http://mocap.cs.cmu.edu/allasfamc.zip](http://mocap.cs.cmu.edu/allasfamc.zip) and place it in `./support/MRT/mocap` folder\n",
    "- Download MuPoTS dataset [http://gvv.mpi-inf.mpg.de/projects/SingleShotMultiPerson/MultiPersonTestSet.zip](http://gvv.mpi-inf.mpg.de/projects/SingleShotMultiPerson/MultiPersonTestSet.zip) and place it in `./support/MRT/mupots3d` folder as `data` folder \n",
    "\n",
    "**or run the two following commands:**"
   ]
  },
  {
   "cell_type": "code",
   "execution_count": null,
   "id": "b6373056",
   "metadata": {},
   "outputs": [],
   "source": [
    "!wget -O ./support/MRT/mocap/allasfamc.zip http://mocap.cs.cmu.edu/allasfamc.zip\n",
    "!wget -O ./support/MRT/mupots3d/MultiPersonTestSet.zip http://gvv.mpi-inf.mpg.de/projects/SingleShotMultiPerson/MultiPersonTestSet.zip"
   ]
  },
  {
   "cell_type": "code",
   "execution_count": null,
   "id": "8fe5bda0",
   "metadata": {},
   "outputs": [],
   "source": [
    "!unzip ./support/MRT/mocap/allasfamc.zip -d ./support/MRT/mocap/\n",
    "!unzip ./support/MRT/mupots3d/MultiPersonTestSet.zip -d ./support/MRT/mupots3d\n",
    "!mv ./support/MRT/mupots3d/MultiPersonTestSet ./support/MRT/mupots3d/data"
   ]
  },
  {
   "cell_type": "markdown",
   "id": "f2546d60",
   "metadata": {},
   "source": [
    "**Create datasets:** (<span style=\"color:red;\">**Beware:**</span> `mix_mocap.py` uses random samples from datasets, thus the results may be very different depending on the generated datasets)"
   ]
  },
  {
   "cell_type": "code",
   "execution_count": null,
   "id": "6834ecbe",
   "metadata": {
    "scrolled": true
   },
   "outputs": [],
   "source": [
    "%cd ./support/MRT/mocap\n",
    "!python preprocess_mocap.py\n",
    "!python mix_mocap.py\n",
    "%cd ..\n",
    "\n",
    "%cd mupots3d\n",
    "!python preprocess_mupots.py\n",
    "%cd ../../.."
   ]
  },
  {
   "cell_type": "markdown",
   "id": "2069acfb",
   "metadata": {},
   "source": [
    "**Copy dataset files in `data` folder:**"
   ]
  },
  {
   "cell_type": "code",
   "execution_count": null,
   "id": "8633c940",
   "metadata": {},
   "outputs": [],
   "source": [
    "!mkdir ./data/cmu_mupots\n",
    "!cp ./support/MRT/mocap/train_3_120_mocap.npy ./data/cmu_mupots/train_3_120_mocap.npy\n",
    "!cp ./support/MRT/mocap/test_3_120_mocap.npy ./data/cmu_mupots/test_3_120_mocap.npy\n",
    "!cp ./support/MRT/mupots3d/mupots_120_3persons.npy ./data/cmu_mupots/mupots_120_3persons.npy"
   ]
  },
  {
   "cell_type": "markdown",
   "id": "49c95adf",
   "metadata": {},
   "source": [
    "**Train and evaluate the model:**"
   ]
  },
  {
   "cell_type": "code",
   "execution_count": null,
   "id": "8c19f040",
   "metadata": {},
   "outputs": [],
   "source": [
    "!python train_cmu.py --device cuda --use_dct --dct_n 40 --use_full_augmentation --use_ctx_loss --out_model_name cmu_mupots_mpfsir\n"
   ]
  },
  {
   "cell_type": "code",
   "execution_count": null,
   "id": "7aeb206c",
   "metadata": {},
   "outputs": [],
   "source": [
    "!python eval.py --device cpu --dataset cmu --dct_n 40 --out_model_name cmu_mupots_mpfsir"
   ]
  },
  {
   "cell_type": "markdown",
   "id": "ac977b46",
   "metadata": {},
   "source": [
    "<br/><br/>"
   ]
  },
  {
   "cell_type": "markdown",
   "id": "80132b0f",
   "metadata": {},
   "source": [
    "## Ablation study"
   ]
  },
  {
   "cell_type": "markdown",
   "id": "cf30ec87",
   "metadata": {},
   "source": [
    "**Ablation: model baseline:**"
   ]
  },
  {
   "cell_type": "code",
   "execution_count": null,
   "id": "f4b44665",
   "metadata": {},
   "outputs": [],
   "source": [
    "!python train.py --device cuda --ablation --independent_ctx --out_model_name mpfsir_ablation_independent"
   ]
  },
  {
   "cell_type": "code",
   "execution_count": null,
   "id": "e3f84afd",
   "metadata": {},
   "outputs": [],
   "source": [
    "!python eval.py --device cpu --ablation --independent_ctx --dataset 3dpw --out_model_name mpfsir_ablation_independent"
   ]
  },
  {
   "cell_type": "markdown",
   "id": "a5642bc9",
   "metadata": {},
   "source": [
    "<br/><br/>**Ablation: model with Temporal&Spacial CTX:**"
   ]
  },
  {
   "cell_type": "code",
   "execution_count": null,
   "id": "0b8968ad",
   "metadata": {},
   "outputs": [],
   "source": [
    "!python train.py --device cuda --ablation --out_model_name mpfsir_ablation_normal"
   ]
  },
  {
   "cell_type": "code",
   "execution_count": null,
   "id": "7cab576a",
   "metadata": {},
   "outputs": [],
   "source": [
    "!python eval.py --device cpu --ablation --dataset 3dpw --out_model_name mpfsir_ablation_normal"
   ]
  },
  {
   "cell_type": "markdown",
   "id": "dd804ac6",
   "metadata": {},
   "source": [
    "<br/><br/>**Ablation: model with DCT:**"
   ]
  },
  {
   "cell_type": "code",
   "execution_count": null,
   "id": "2e8449ca",
   "metadata": {
    "scrolled": true
   },
   "outputs": [],
   "source": [
    "!python train.py --device cuda --ablation --use_dct --dct_n 30 --out_model_name mpfsir_ablation_normal_dct"
   ]
  },
  {
   "cell_type": "code",
   "execution_count": null,
   "id": "b3cef373",
   "metadata": {},
   "outputs": [],
   "source": [
    "!python eval.py --device cpu --ablation --use_dct --dct_n 30 --dataset 3dpw --out_model_name mpfsir_ablation_normal_dct"
   ]
  },
  {
   "cell_type": "markdown",
   "id": "8a0ceb59",
   "metadata": {},
   "source": [
    "<br/><br/>**Ablation: model with data augmentation:**"
   ]
  },
  {
   "cell_type": "code",
   "execution_count": null,
   "id": "c46e021f",
   "metadata": {},
   "outputs": [],
   "source": [
    "!python train.py --device cuda --ablation --use_dct --dct_n 30 --use_full_augmentation --out_model_name mpfsir_ablation_normal_dct_augmented"
   ]
  },
  {
   "cell_type": "code",
   "execution_count": null,
   "id": "fa675b6d",
   "metadata": {},
   "outputs": [],
   "source": [
    "!python eval.py --device cpu --ablation --use_dct --dct_n 30 --dataset 3dpw --out_model_name mpfsir_ablation_normal_dct_augmented"
   ]
  },
  {
   "cell_type": "markdown",
   "id": "69774b65",
   "metadata": {},
   "source": [
    "<br/><br/>**Ablation: model with Social-interaction loss:**"
   ]
  },
  {
   "cell_type": "code",
   "execution_count": null,
   "id": "02857ffc",
   "metadata": {
    "scrolled": true
   },
   "outputs": [],
   "source": [
    "!python train.py --device cuda --ablation --use_dct --dct_n 30 --use_full_augmentation --use_ctx_loss --out_model_name mpfsir_ablation_full"
   ]
  },
  {
   "cell_type": "code",
   "execution_count": null,
   "id": "874ced26",
   "metadata": {},
   "outputs": [],
   "source": [
    "!python eval.py --device cpu --ablation --use_dct --dct_n 30 --dataset 3dpw --out_model_name mpfsir_ablation_full"
   ]
  }
 ],
 "metadata": {
  "kernelspec": {
   "display_name": "Python [conda env:mpfsir]",
   "language": "python",
   "name": "conda-env-mpfsir-py"
  },
  "language_info": {
   "codemirror_mode": {
    "name": "ipython",
    "version": 3
   },
   "file_extension": ".py",
   "mimetype": "text/x-python",
   "name": "python",
   "nbconvert_exporter": "python",
   "pygments_lexer": "ipython3",
   "version": "3.8.17"
  }
 },
 "nbformat": 4,
 "nbformat_minor": 5
}
